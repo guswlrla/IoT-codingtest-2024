{
 "cells": [
  {
   "cell_type": "markdown",
   "metadata": {},
   "source": [
    "#### 그리디 알고리즘(탐욕법)\n",
    "- 현재 상황에서 당장 좋은 것만 선택하는 방법\n",
    "- 사전에 외우고 있지 않아도 풀 수 있는 유형의 알고리즘"
   ]
  },
  {
   "cell_type": "markdown",
   "metadata": {},
   "source": [
    "#### 예제 3-1 거스름돈\n",
    "- 카운터에 500원, 100원, 50원, 10원이 무한대로 존재\n",
    "- 손님에게 N원의 돈을 거슬러 줄 때 동전의 최소갯수(단, N은 10의 배수)"
   ]
  },
  {
   "cell_type": "code",
   "execution_count": 1,
   "metadata": {},
   "outputs": [
    {
     "name": "stdout",
     "output_type": "stream",
     "text": [
      "6\n"
     ]
    }
   ],
   "source": [
    "n = 1260 # 입력값\n",
    "count = 0 # 동전개수\n",
    "temp = 0 # 중간단계 금액\n",
    "\n",
    "coins = [500, 100, 50, 10] ## 500원, 100원, 50원, 10원 네가지 동전\n",
    "\n",
    "for coin in coins: # 500부터 4번 돌면서\n",
    "    temp = n # 1260, 260, 60, 10\n",
    "    count += int(n / coin) # 1260 / 500 = 2, 260 / 100 = 2, 60 / 50 = 1, 10 / 10 = 1\n",
    "    n = n % coin # 1260 % 500 = 260, 260 % 100 = 60, 60 % 50 = 10, 10 % 10 = 0\n",
    "\n",
    "print(count)"
   ]
  },
  {
   "cell_type": "markdown",
   "metadata": {},
   "source": [
    "- 1260원에 대한 최소 동전 개수 = 6"
   ]
  },
  {
   "cell_type": "code",
   "execution_count": 6,
   "metadata": {},
   "outputs": [
    {
     "name": "stdout",
     "output_type": "stream",
     "text": [
      "15\n"
     ]
    }
   ],
   "source": [
    "## 백준 5585번\n",
    "n = int(input()) # 380, 1\n",
    "c = 1000\n",
    "count = 0\n",
    "temp = 0\n",
    "\n",
    "coin_types = [500, 100, 50, 10, 5, 1]\n",
    "# 입력된 돈으로 뺌\n",
    "c -= n\n",
    "\n",
    "for coin in coin_types: # 500부터 6번 반복\n",
    "    temp = c # 620, 120, 20 .. \n",
    "    count += int(c / coin) \n",
    "    c = c % coin \n",
    "\n",
    "print(count)"
   ]
  }
 ],
 "metadata": {
  "kernelspec": {
   "display_name": "Python 3",
   "language": "python",
   "name": "python3"
  },
  "language_info": {
   "codemirror_mode": {
    "name": "ipython",
    "version": 3
   },
   "file_extension": ".py",
   "mimetype": "text/x-python",
   "name": "python",
   "nbconvert_exporter": "python",
   "pygments_lexer": "ipython3",
   "version": "3.11.5"
  }
 },
 "nbformat": 4,
 "nbformat_minor": 2
}
