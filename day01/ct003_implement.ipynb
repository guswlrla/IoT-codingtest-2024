{
 "cells": [
  {
   "cell_type": "markdown",
   "metadata": {},
   "source": [
    "### 구현\n",
    "\n",
    "- Python - C로 구현한 파이썬 자체(CPython)\n",
    "- PyPy - Python으로 구현한 파이썬 자체"
   ]
  },
  {
   "cell_type": "markdown",
   "metadata": {},
   "source": [
    "#### 예제 4-1 상하좌우\n",
    "- 여행가 A가 NxN 정사각형 공간에서, LRUD 방향으로 옮겨 갈 수 있음\n",
    "- 1<=N<=100, 1<= A의 이동횟수 <=100\n",
    "- 입력예시\n",
    "    ```shell\n",
    "    5\n",
    "    R R R U D D\n",
    "    ```\n",
    "- 출력예시\n",
    "    ```shell\n",
    "    3 4\n",
    "    ```\n",
    "\n",
    "- 복잡도 -> $O(n^2)$"
   ]
  },
  {
   "cell_type": "code",
   "execution_count": 8,
   "metadata": {},
   "outputs": [
    {
     "name": "stdout",
     "output_type": "stream",
     "text": [
      "3 4\n"
     ]
    }
   ],
   "source": [
    "N = int(input()) # 공간크기 입력\n",
    "X, Y = 1, 1 # 시작위치\n",
    "plans = input().split() # 공백으로 잘라서\n",
    "\n",
    "#print(N, X, Y, plans)\n",
    "## L, R, U, D에 따른 이동방향\n",
    "directions = ['L', 'R', 'U', 'D'] # 0=L, 1=R, 2=U, 3=D\n",
    "dx = [-1, 1, 0, 0] # 이동방향에 대한 x값\n",
    "dy = [0, 0, -1, 1] # 이동방향에 대한 y값. 계산 시 dx, dy를 같이 씀\n",
    "\n",
    "# 이동 계획을 반복\n",
    "for plan in plans: # r r r u d d\n",
    "    dir = str(plan).upper()\n",
    "    #print(dir)\n",
    "    # 이동 뒤 좌표를 구함\n",
    "    for i in range(len(directions)):\n",
    "        if dir == directions[i]:\n",
    "            nx = X + dx[i] # LR에서는 이동이 됨, UD일떄는 더하니까 아무런 변화가 없음\n",
    "            ny = Y + dy[i] # UD일 때 이동, LR일 때는 + 0\n",
    "    # 공간을 벗어나는 좌표가 되면 무시\n",
    "    # N을 주면 x좌표는 1, N사이 y도 1, N 사이의 좌표만 생김\n",
    "    if nx < 1 or nx > N or ny < 1 or ny > N:\n",
    "        # 위에서 구한 nx, ny 값은 필요없음\n",
    "        continue\n",
    "    else:\n",
    "        X, Y = nx, ny\n",
    "\n",
    "print(Y, X)"
   ]
  },
  {
   "cell_type": "markdown",
   "metadata": {},
   "source": [
    "#### P118 게임개발\n",
    "- 1x1 정사각형 타일로 이루어진 NxM 크기의 직사각형 지도\n",
    "- 1은 바다, 0은 육지\n",
    "- 캐릭터는 동(1)서(3)남(2)북(0)을 바라보고 있음\n",
    "- 캐릭터는 상하좌우로 이동가능, 바다로 된 공간은 이동불가\n",
    "- 캐릭터는 북쪽으로 이동, 90도 왼쪽으로 회전 서쪽으로 이동, 네 방향모두 이미 기본 칸이거나 바다로 되어 있으면, 바라보는 방향을 유지하고 한칸 뒤로 이동"
   ]
  }
 ],
 "metadata": {
  "kernelspec": {
   "display_name": "Python 3",
   "language": "python",
   "name": "python3"
  },
  "language_info": {
   "codemirror_mode": {
    "name": "ipython",
    "version": 3
   },
   "file_extension": ".py",
   "mimetype": "text/x-python",
   "name": "python",
   "nbconvert_exporter": "python",
   "pygments_lexer": "ipython3",
   "version": "3.11.5"
  }
 },
 "nbformat": 4,
 "nbformat_minor": 2
}
